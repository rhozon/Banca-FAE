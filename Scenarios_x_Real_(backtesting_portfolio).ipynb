{
  "nbformat": 4,
  "nbformat_minor": 0,
  "metadata": {
    "colab": {
      "provenance": [],
      "gpuType": "T4",
      "authorship_tag": "ABX9TyMQfzI+j6LA4TXbBhoP5s75",
      "include_colab_link": true
    },
    "kernelspec": {
      "name": "ir",
      "display_name": "R"
    },
    "language_info": {
      "name": "R"
    },
    "accelerator": "GPU"
  },
  "cells": [
    {
      "cell_type": "markdown",
      "metadata": {
        "id": "view-in-github",
        "colab_type": "text"
      },
      "source": [
        "<a href=\"https://colab.research.google.com/github/rhozon/Banca-FAE/blob/master/Scenarios_x_Real_(backtesting_portfolio).ipynb\" target=\"_parent\"><img src=\"https://colab.research.google.com/assets/colab-badge.svg\" alt=\"Open In Colab\"/></a>"
      ]
    },
    {
      "cell_type": "markdown",
      "source": [
        "# Forecasting Scenarios vs Realizado (Últimos 22 Dias)"
      ],
      "metadata": {
        "id": "7soXaeZ5xXj2"
      }
    },
    {
      "cell_type": "code",
      "execution_count": 1,
      "metadata": {
        "colab": {
          "base_uri": "https://localhost:8080/"
        },
        "id": "VXgAzMtGxK_W",
        "outputId": "018d42c6-e09e-42c8-abba-6c2adc14bbff"
      },
      "outputs": [
        {
          "output_type": "stream",
          "name": "stderr",
          "text": [
            "Installing packages into ‘/usr/local/lib/R/site-library’\n",
            "(as ‘lib’ is unspecified)\n",
            "\n",
            "also installing the dependencies ‘shape’, ‘future.apply’, ‘SQUAREM’, ‘diagram’, ‘lava’, ‘numDeriv’, ‘quadprog’, ‘prodlim’, ‘globals’, ‘listenv’, ‘parallelly’, ‘BH’, ‘distributional’, ‘progressr’, ‘ggdist’, ‘clock’, ‘gower’, ‘hardhat’, ‘ipred’, ‘sparsevctrs’, ‘furrr’, ‘lazyeval’, ‘crosstalk’, ‘warp’, ‘colorspace’, ‘fracdiff’, ‘lmtest’, ‘tseries’, ‘urca’, ‘RcppArmadillo’, ‘RcppRoll’, ‘future’, ‘anytime’, ‘fable’, ‘fabletools’, ‘feasts’, ‘tsibbledata’, ‘xts’, ‘zoo’, ‘TTR’, ‘recipes’, ‘rsample’, ‘plotly’, ‘padr’, ‘slider’, ‘timeDate’, ‘forecast’, ‘tsfeatures’\n",
            "\n",
            "\n"
          ]
        }
      ],
      "source": [
        "#@title 1) Instalação dos pacotes necessários\n",
        "\n",
        "install.packages(\n",
        "  c(\n",
        "    \"tidyverse\",\n",
        "    \"tsibble\",\n",
        "    \"fpp3\",\n",
        "    \"quantmod\",\n",
        "    \"timetk\",\n",
        "    \"openxlsx\",\n",
        "    \"IRdisplay\"\n",
        "  ),\n",
        "  repos = \"https://cloud.r-project.org\"\n",
        ")\n"
      ]
    },
    {
      "cell_type": "code",
      "source": [
        "#@title 2) Carregamento dos pacotes\n",
        "\n",
        "suppressPackageStartupMessages({\n",
        "  library(tidyverse)\n",
        "  library(tsibble)\n",
        "  library(fpp3)\n",
        "  library(quantmod)\n",
        "  library(timetk)\n",
        "  library(openxlsx)\n",
        "  library(IRdisplay)\n",
        "  library(tsibble)\n",
        "  library(timetk)\n",
        "  library(tidyr)\n",
        "\n",
        "})\n"
      ],
      "metadata": {
        "id": "xcJjP6IFxOT7"
      },
      "execution_count": 2,
      "outputs": []
    },
    {
      "cell_type": "code",
      "source": [
        "\n",
        "#@title 3) Definição dos tickers e download dos preços (corrigido)\n",
        "tickers <- c(\"ZC=F\",\"ZO=F\",\"KE=F\",\"GF=F\",\"ZS=F\",\"ZM=F\",\"ZL=F\")\n",
        "\n",
        "# 1) Baixa cada série como xts e guarda numa lista\n",
        "prices_list <- lapply(tickers, function(tk){\n",
        "  quantmod::getSymbols.yahoo(\n",
        "    tk,\n",
        "    from       = \"2019-01-01\",\n",
        "    auto.assign= FALSE\n",
        "  )[,4]   # só a coluna de Adjusted/Close\n",
        "})\n",
        "\n",
        "# 2) Combina todas as séries num único objeto xts\n",
        "portfolioPrices <- do.call(merge, prices_list)\n",
        "colnames(portfolioPrices) <- c(\"corn\",\"wheat\",\"kcwheat\",\n",
        "                               \"feeder\",\"soymeal\",\"soyf\",\"soybeans\")\n",
        "\n",
        "# 3) Remove datas com qualquer NA\n",
        "portfolioPrices <- na.omit(portfolioPrices)\n"
      ],
      "metadata": {
        "colab": {
          "base_uri": "https://localhost:8080/"
        },
        "id": "FQPcaWUSxaTf",
        "outputId": "26442e2d-7330-412f-bd5d-ab8391a09331"
      },
      "execution_count": 3,
      "outputs": [
        {
          "output_type": "stream",
          "name": "stderr",
          "text": [
            "Warning message:\n",
            "“ZC=F contains missing values. Some functions will not work if objects contain missing values in the middle of the series. Consider using na.omit(), na.approx(), na.fill(), etc to remove or replace them.”\n",
            "Warning message:\n",
            "“ZO=F contains missing values. Some functions will not work if objects contain missing values in the middle of the series. Consider using na.omit(), na.approx(), na.fill(), etc to remove or replace them.”\n",
            "Warning message:\n",
            "“KE=F contains missing values. Some functions will not work if objects contain missing values in the middle of the series. Consider using na.omit(), na.approx(), na.fill(), etc to remove or replace them.”\n",
            "Warning message:\n",
            "“GF=F contains missing values. Some functions will not work if objects contain missing values in the middle of the series. Consider using na.omit(), na.approx(), na.fill(), etc to remove or replace them.”\n",
            "Warning message:\n",
            "“ZS=F contains missing values. Some functions will not work if objects contain missing values in the middle of the series. Consider using na.omit(), na.approx(), na.fill(), etc to remove or replace them.”\n",
            "Warning message:\n",
            "“ZM=F contains missing values. Some functions will not work if objects contain missing values in the middle of the series. Consider using na.omit(), na.approx(), na.fill(), etc to remove or replace them.”\n",
            "Warning message:\n",
            "“ZL=F contains missing values. Some functions will not work if objects contain missing values in the middle of the series. Consider using na.omit(), na.approx(), na.fill(), etc to remove or replace them.”\n"
          ]
        }
      ]
    },
    {
      "cell_type": "code",
      "source": [
        "\n",
        "#@title 4) Cálculo de log-retornos e conversão em tsibble (corrigido)\n",
        "\n",
        "\n",
        "# 1) calcula retornos log\n",
        "log_returns_xts <- diff(log(portfolioPrices))\n",
        "log_returns_xts <- na.omit(log_returns_xts)\n",
        "\n",
        "# 2) transforma em tibble com coluna date\n",
        "log_returns <- tk_tbl(\n",
        "  log_returns_xts,\n",
        "  preserve_index = TRUE,\n",
        "  rename_index   = \"date\"\n",
        ")\n",
        "\n",
        "# 3) pivot para long format\n",
        "log_returns <- log_returns %>%\n",
        "  pivot_longer(\n",
        "    cols      = -date,\n",
        "    names_to  = \"asset\",\n",
        "    values_to = \"ret\"\n",
        "  )\n",
        "\n",
        "# 4) converte para tsibble\n",
        "tsbl_returns <- log_returns %>%\n",
        "  as_tsibble(key = asset, index = date)\n",
        "\n",
        "# checa resultado\n",
        "tsbl_returns |> group_by(asset) |> slice_tail(n = 3)\n",
        "\n"
      ],
      "metadata": {
        "colab": {
          "base_uri": "https://localhost:8080/",
          "height": 757
        },
        "id": "SnOFlfe2xlGG",
        "outputId": "e9d91874-ff2c-4236-d4ee-9c130907f201"
      },
      "execution_count": 4,
      "outputs": [
        {
          "output_type": "display_data",
          "data": {
            "text/html": [
              "<table class=\"dataframe\">\n",
              "<caption>A grouped_ts: 21 × 3</caption>\n",
              "<thead>\n",
              "\t<tr><th scope=col>date</th><th scope=col>asset</th><th scope=col>ret</th></tr>\n",
              "\t<tr><th scope=col>&lt;date&gt;</th><th scope=col>&lt;chr&gt;</th><th scope=col>&lt;dbl&gt;</th></tr>\n",
              "</thead>\n",
              "<tbody>\n",
              "\t<tr><td>2025-05-16</td><td>corn    </td><td>-0.0112108797</td></tr>\n",
              "\t<tr><td>2025-05-19</td><td>corn    </td><td> 0.0089787360</td></tr>\n",
              "\t<tr><td>2025-05-20</td><td>corn    </td><td> 0.0155213759</td></tr>\n",
              "\t<tr><td>2025-05-16</td><td>feeder  </td><td> 0.0022765267</td></tr>\n",
              "\t<tr><td>2025-05-19</td><td>feeder  </td><td>-0.0039661444</td></tr>\n",
              "\t<tr><td>2025-05-20</td><td>feeder  </td><td> 0.0010986175</td></tr>\n",
              "\t<tr><td>2025-05-16</td><td>kcwheat </td><td>-0.0224943679</td></tr>\n",
              "\t<tr><td>2025-05-19</td><td>kcwheat </td><td> 0.0120280497</td></tr>\n",
              "\t<tr><td>2025-05-20</td><td>kcwheat </td><td> 0.0254971319</td></tr>\n",
              "\t<tr><td>2025-05-16</td><td>soybeans</td><td>-0.0079389606</td></tr>\n",
              "\t<tr><td>2025-05-19</td><td>soybeans</td><td> 0.0103690738</td></tr>\n",
              "\t<tr><td>2025-05-20</td><td>soybeans</td><td> 0.0012128842</td></tr>\n",
              "\t<tr><td>2025-05-16</td><td>soyf    </td><td>-0.0152986159</td></tr>\n",
              "\t<tr><td>2025-05-19</td><td>soyf    </td><td>-0.0027443852</td></tr>\n",
              "\t<tr><td>2025-05-20</td><td>soyf    </td><td> 0.0051396377</td></tr>\n",
              "\t<tr><td>2025-05-16</td><td>soymeal </td><td>-0.0011897681</td></tr>\n",
              "\t<tr><td>2025-05-19</td><td>soymeal </td><td> 0.0007140307</td></tr>\n",
              "\t<tr><td>2025-05-20</td><td>soymeal </td><td> 0.0021390382</td></tr>\n",
              "\t<tr><td>2025-05-16</td><td>wheat   </td><td> 0.0073260401</td></tr>\n",
              "\t<tr><td>2025-05-19</td><td>wheat   </td><td> 0.0421641591</td></tr>\n",
              "\t<tr><td>2025-05-20</td><td>wheat   </td><td>-0.0021015770</td></tr>\n",
              "</tbody>\n",
              "</table>\n"
            ],
            "text/markdown": "\nA grouped_ts: 21 × 3\n\n| date &lt;date&gt; | asset &lt;chr&gt; | ret &lt;dbl&gt; |\n|---|---|---|\n| 2025-05-16 | corn     | -0.0112108797 |\n| 2025-05-19 | corn     |  0.0089787360 |\n| 2025-05-20 | corn     |  0.0155213759 |\n| 2025-05-16 | feeder   |  0.0022765267 |\n| 2025-05-19 | feeder   | -0.0039661444 |\n| 2025-05-20 | feeder   |  0.0010986175 |\n| 2025-05-16 | kcwheat  | -0.0224943679 |\n| 2025-05-19 | kcwheat  |  0.0120280497 |\n| 2025-05-20 | kcwheat  |  0.0254971319 |\n| 2025-05-16 | soybeans | -0.0079389606 |\n| 2025-05-19 | soybeans |  0.0103690738 |\n| 2025-05-20 | soybeans |  0.0012128842 |\n| 2025-05-16 | soyf     | -0.0152986159 |\n| 2025-05-19 | soyf     | -0.0027443852 |\n| 2025-05-20 | soyf     |  0.0051396377 |\n| 2025-05-16 | soymeal  | -0.0011897681 |\n| 2025-05-19 | soymeal  |  0.0007140307 |\n| 2025-05-20 | soymeal  |  0.0021390382 |\n| 2025-05-16 | wheat    |  0.0073260401 |\n| 2025-05-19 | wheat    |  0.0421641591 |\n| 2025-05-20 | wheat    | -0.0021015770 |\n\n",
            "text/latex": "A grouped\\_ts: 21 × 3\n\\begin{tabular}{lll}\n date & asset & ret\\\\\n <date> & <chr> & <dbl>\\\\\n\\hline\n\t 2025-05-16 & corn     & -0.0112108797\\\\\n\t 2025-05-19 & corn     &  0.0089787360\\\\\n\t 2025-05-20 & corn     &  0.0155213759\\\\\n\t 2025-05-16 & feeder   &  0.0022765267\\\\\n\t 2025-05-19 & feeder   & -0.0039661444\\\\\n\t 2025-05-20 & feeder   &  0.0010986175\\\\\n\t 2025-05-16 & kcwheat  & -0.0224943679\\\\\n\t 2025-05-19 & kcwheat  &  0.0120280497\\\\\n\t 2025-05-20 & kcwheat  &  0.0254971319\\\\\n\t 2025-05-16 & soybeans & -0.0079389606\\\\\n\t 2025-05-19 & soybeans &  0.0103690738\\\\\n\t 2025-05-20 & soybeans &  0.0012128842\\\\\n\t 2025-05-16 & soyf     & -0.0152986159\\\\\n\t 2025-05-19 & soyf     & -0.0027443852\\\\\n\t 2025-05-20 & soyf     &  0.0051396377\\\\\n\t 2025-05-16 & soymeal  & -0.0011897681\\\\\n\t 2025-05-19 & soymeal  &  0.0007140307\\\\\n\t 2025-05-20 & soymeal  &  0.0021390382\\\\\n\t 2025-05-16 & wheat    &  0.0073260401\\\\\n\t 2025-05-19 & wheat    &  0.0421641591\\\\\n\t 2025-05-20 & wheat    & -0.0021015770\\\\\n\\end{tabular}\n",
            "text/plain": [
              "   date       asset    ret          \n",
              "1  2025-05-16 corn     -0.0112108797\n",
              "2  2025-05-19 corn      0.0089787360\n",
              "3  2025-05-20 corn      0.0155213759\n",
              "4  2025-05-16 feeder    0.0022765267\n",
              "5  2025-05-19 feeder   -0.0039661444\n",
              "6  2025-05-20 feeder    0.0010986175\n",
              "7  2025-05-16 kcwheat  -0.0224943679\n",
              "8  2025-05-19 kcwheat   0.0120280497\n",
              "9  2025-05-20 kcwheat   0.0254971319\n",
              "10 2025-05-16 soybeans -0.0079389606\n",
              "11 2025-05-19 soybeans  0.0103690738\n",
              "12 2025-05-20 soybeans  0.0012128842\n",
              "13 2025-05-16 soyf     -0.0152986159\n",
              "14 2025-05-19 soyf     -0.0027443852\n",
              "15 2025-05-20 soyf      0.0051396377\n",
              "16 2025-05-16 soymeal  -0.0011897681\n",
              "17 2025-05-19 soymeal   0.0007140307\n",
              "18 2025-05-20 soymeal   0.0021390382\n",
              "19 2025-05-16 wheat     0.0073260401\n",
              "20 2025-05-19 wheat     0.0421641591\n",
              "21 2025-05-20 wheat    -0.0021015770"
            ]
          },
          "metadata": {}
        }
      ]
    },
    {
      "cell_type": "code",
      "source": [
        "\n",
        "#@title 5) Ajuste do modelo com regressão com quebras de tendência\n",
        "\n",
        "models_all <- tsbl_returns |>\n",
        "  model(\n",
        "    Regr_Quebras = TSLM(ret ~ trend(knots = c(2020, 2022, 2024)))\n",
        "  )\n",
        "\n"
      ],
      "metadata": {
        "id": "RpR92HioxmK7"
      },
      "execution_count": 6,
      "outputs": []
    },
    {
      "cell_type": "code",
      "source": [
        "\n",
        "#@title 6) Definir datas de teste (últimas 22 datas de trading) e gerar cenários alinhados\n",
        "library(dplyr); library(tsibble)\n",
        "\n",
        "last_dates <- tsbl_returns |>\n",
        "  distinct(date) |>\n",
        "  arrange(date) |>\n",
        "  tail(22) |>\n",
        "  pull(date)\n",
        "\n",
        "test_data <- tsbl_returns |>\n",
        "  filter(date %in% last_dates)\n",
        "\n",
        "sims_all <- models_all |>\n",
        "  generate(\n",
        "    new_data  = test_data,\n",
        "    times     = 3,\n",
        "    bootstrap = TRUE\n",
        "  )\n",
        "\n"
      ],
      "metadata": {
        "id": "sBcV5sQwxn2Z"
      },
      "execution_count": 7,
      "outputs": []
    },
    {
      "cell_type": "code",
      "source": [
        "#@title 7) Extrair os retornos realizados no mesmo período de teste\n",
        "library(tidyr)\n",
        "\n",
        "realized_df <- test_data |>\n",
        "  select(date, asset, ret) |>\n",
        "  pivot_wider(\n",
        "    names_from  = asset,\n",
        "    values_from = ret\n",
        "  )"
      ],
      "metadata": {
        "id": "FDsh-zcaHeSj"
      },
      "execution_count": 8,
      "outputs": []
    },
    {
      "cell_type": "code",
      "source": [
        "#@title 8) Exportação para Excel: cenários e realizados\n",
        "wb <- createWorkbook()\n",
        "date_style <- createStyle(numFmt = \"[$-pt-BR]ddd dd/mm/yyyy\")\n",
        "dec6_style <- createStyle(numFmt = \"0.000000\")\n",
        "\n",
        "# Abas de cenários\n",
        "for (c in sort(unique(sims_all$.rep))) {\n",
        "  df_c <- sims_all |>\n",
        "    filter(.rep == c) |>\n",
        "    select(date, asset, .sim) |>\n",
        "    pivot_wider(names_from = asset, values_from = .sim)\n",
        "  sheet <- paste0(\"cenario_\", c)\n",
        "  addWorksheet(wb, sheet)\n",
        "  writeData(wb, sheet, df_c)\n",
        "  addStyle(wb, sheet, date_style, cols = 1, rows = 2:(nrow(df_c)+1), gridExpand = TRUE)\n",
        "  num_cols <- which(sapply(df_c, is.numeric))\n",
        "  addStyle(wb, sheet, dec6_style, cols = num_cols, rows = 2:(nrow(df_c)+1), gridExpand = TRUE)\n",
        "  setColWidths(wb, sheet, cols = 1:ncol(df_c), widths = \"auto\")\n",
        "}\n",
        "\n",
        "# Aba de realizados\n",
        "addWorksheet(wb, \"realizados\")\n",
        "writeData(wb, \"realizados\", realized_df)\n",
        "addStyle(wb, \"realizados\", date_style, cols = 1, rows = 2:(nrow(realized_df)+1), gridExpand = TRUE)\n",
        "num_cols2 <- which(sapply(realized_df, is.numeric))\n",
        "addStyle(wb, \"realizados\", dec6_style, cols = num_cols2, rows = 2:(nrow(realized_df)+1), gridExpand = TRUE)\n",
        "setColWidths(wb, \"realizados\", cols = 1:ncol(realized_df), widths = \"auto\")\n",
        "\n",
        "output_file <- \"cenario_vs_realizado_22dias.xlsx\"\n",
        "saveWorkbook(wb, output_file, overwrite = TRUE)"
      ],
      "metadata": {
        "id": "1Ohl9FL8xtMr"
      },
      "execution_count": 9,
      "outputs": []
    }
  ]
}