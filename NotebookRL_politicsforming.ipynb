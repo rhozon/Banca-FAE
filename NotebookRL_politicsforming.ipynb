{
  "nbformat": 4,
  "nbformat_minor": 0,
  "metadata": {
    "colab": {
      "provenance": [],
      "toc_visible": true,
      "authorship_tag": "ABX9TyOTqkmbRx0X5I3zTYHlqhd/",
      "include_colab_link": true
    },
    "kernelspec": {
      "name": "python3",
      "display_name": "Python 3"
    },
    "language_info": {
      "name": "python"
    }
  },
  "cells": [
    {
      "cell_type": "markdown",
      "metadata": {
        "id": "view-in-github",
        "colab_type": "text"
      },
      "source": [
        "<a href=\"https://colab.research.google.com/github/rhozon/Banca-FAE/blob/master/NotebookRL_politicsforming.ipynb\" target=\"_parent\"><img src=\"https://colab.research.google.com/assets/colab-badge.svg\" alt=\"Open In Colab\"/></a>"
      ]
    },
    {
      "cell_type": "code",
      "execution_count": 20,
      "metadata": {
        "id": "hIMiqn1-8z5U"
      },
      "outputs": [],
      "source": [
        "#@title Instalação de Dependências\n",
        "\n",
        "!pip install --quiet yahooquery stable-baselines3 gymnasium shimmy\n"
      ]
    },
    {
      "cell_type": "code",
      "source": [
        "#@title Imports e Ambiente\n",
        "\n",
        "import os\n",
        "import numpy as np\n",
        "import pandas as pd\n",
        "import matplotlib.pyplot as plt\n",
        "import gymnasium as gym\n",
        "from gymnasium import spaces\n",
        "from yahooquery import Ticker\n",
        "from stable_baselines3 import DQN\n",
        "from stable_baselines3.common.env_util import make_vec_env\n",
        "from stable_baselines3.common.monitor import Monitor\n",
        "from stable_baselines3.common.evaluation import evaluate_policy\n"
      ],
      "metadata": {
        "id": "lyhHG8L096wh"
      },
      "execution_count": 44,
      "outputs": []
    },
    {
      "cell_type": "code",
      "source": [
        "#@title Set dos tickers de cada grupo (trocar pros seus)\n",
        "\n",
        "# Hiperparâmetros gerais\n",
        "TICKERS         = [\"ZC=F\",\"ZO=F\",\"KE=F\",\"GF=F\",\"ZS=F\",\"ZM=F\",\"ZL=F\"]\n",
        "WINDOW_SIZE     = 20\n",
        "TRANSACTION_COST= 0.001\n",
        "INITIAL_BALANCE = 100_000.0\n",
        "SEED            = 42\n",
        "\n",
        "# Parâmetros de treino\n",
        "TOTAL_TIMESTEPS = 100_000\n",
        "COOLDOWN_DAYS   = 3   # agora 3 dias de cooldown\n",
        "PENALTY_COEF    = 0.5 # coeficiente de penalização de drawdown, se usado\n",
        "\n",
        "# Reward shapes suportados: \"pnl\", \"log_return\", \"drawdown_penalty\"\n",
        "REWARD_TYPE     = \"log_return\"\n",
        "\n",
        "class TradingEnv(gym.Env):\n",
        "    \"\"\"Ambiente RL com cooldown e reward shape configurável.\"\"\"\n",
        "    metadata = {\"render_modes\": [\"human\"], \"render_fps\": 1}\n",
        "    def __init__(self, series: pd.Series):\n",
        "        super().__init__()\n",
        "        self.dates  = list(series.index)\n",
        "        self.prices = series.values\n",
        "        self.window = WINDOW_SIZE\n",
        "        self.tc     = TRANSACTION_COST\n",
        "        self.cool   = COOLDOWN_DAYS\n",
        "\n",
        "        self.action_space = spaces.Discrete(3)  # hold/buy/sell\n",
        "        self.observation_space = spaces.Box(\n",
        "            low=-1, high=1, shape=(self.window-1,), dtype=np.float32\n",
        "        )\n",
        "\n",
        "    def reset(self, **kwargs):\n",
        "        super().reset(**kwargs)\n",
        "        self.i      = self.window-1\n",
        "        self.balance= INITIAL_BALANCE\n",
        "        self.pos    = 0\n",
        "        self.last_t = -self.cool\n",
        "        self.peak   = INITIAL_BALANCE\n",
        "        return self._state(), {}\n",
        "\n",
        "    def _state(self):\n",
        "        seg     = self.prices[self.i-self.window+1:self.i+1]\n",
        "        returns = np.diff(seg)/seg[:-1]\n",
        "        return np.clip(returns, -1, 1).astype(np.float32)\n",
        "\n",
        "    def step(self, action):\n",
        "        price        = float(self.prices[self.i])\n",
        "        total_before = self.balance + self.pos*price\n",
        "\n",
        "        # executa só se cooldown ok\n",
        "        if self.i - self.last_t >= self.cool:\n",
        "            if action==1 and self.balance>=price*(1+self.tc):\n",
        "                self.pos   += 1\n",
        "                self.balance -= price*(1+self.tc)\n",
        "                self.last_t= self.i\n",
        "            elif action==2 and self.pos>0:\n",
        "                self.pos   -= 1\n",
        "                self.balance += price*(1-self.tc)\n",
        "                self.last_t= self.i\n",
        "\n",
        "        self.i += 1\n",
        "        done = self.i>=len(self.prices)\n",
        "\n",
        "        # finaliza posição\n",
        "        if done and self.pos>0:\n",
        "            self.balance += self.pos*price*(1-self.tc)\n",
        "            self.pos = 0\n",
        "\n",
        "        price_after  = float(self.prices[self.i-1] if done else self.prices[self.i])\n",
        "        total_after  = self.balance + self.pos*price_after\n",
        "\n",
        "        # reward shape\n",
        "        if REWARD_TYPE==\"pnl\":\n",
        "            reward = total_after - total_before\n",
        "        elif REWARD_TYPE==\"log_return\":\n",
        "            reward = np.log1p(total_after - total_before)  # log(1+PnL)\n",
        "        elif REWARD_TYPE==\"drawdown_penalty\":\n",
        "            dd = (total_after - self.peak)/self.peak\n",
        "            penalty = PENALTY_COEF * min(0, dd)\n",
        "            reward = (total_after - total_before) + penalty\n",
        "        else:\n",
        "            reward = total_after - total_before\n",
        "\n",
        "        # atualiza pico\n",
        "        self.peak = max(self.peak, total_after)\n",
        "\n",
        "        obs = self._state() if not done else np.zeros(self.window-1,dtype=np.float32)\n",
        "        return obs, reward, done, False, {}\n",
        "\n",
        "    def render(self):\n",
        "        print(f\"Step {self.i} | Bal: {self.balance:.2f} | Pos: {self.pos}\")\n",
        "\n",
        "def simulate_trading(series, model):\n",
        "    env = TradingEnv(series)\n",
        "    obs,_ = env.reset()\n",
        "    rec=[]\n",
        "    while True:\n",
        "        a,_ = model.predict(obs, deterministic=True)\n",
        "        obs,r,done,_,_ = env.step(a)\n",
        "        rec.append({\n",
        "            \"date\": env.dates[env.i-1],\n",
        "            \"action\": a, \"reward\": r,\n",
        "            \"balance\": env.balance + env.pos*env.prices[env.i-1]\n",
        "        })\n",
        "        if done: break\n",
        "    return pd.DataFrame(rec)\n",
        "\n",
        "def plot_equity(df, label=\"Equity\"):\n",
        "    plt.figure(figsize=(10,4))\n",
        "    plt.plot(df[\"date\"], df[\"balance\"], label=label)\n",
        "    plt.xlabel(\"Data\"); plt.ylabel(\"Saldo Total\")\n",
        "    plt.grid(True); plt.legend(); plt.show()\n",
        "\n",
        "def compute_metrics(df):\n",
        "    rets = df[\"balance\"].pct_change().fillna(0)\n",
        "    sharpe = rets.mean()/(rets.std()+1e-8)*np.sqrt(252)\n",
        "    max_dd = ((df[\"balance\"]-df[\"balance\"].cummax())/df[\"balance\"].cummax()).min()\n",
        "    trades = df[df[\"action\"]!=0]\n",
        "    win = ((trades[\"action\"]==2)&(trades[\"reward\"]>0)).mean() if len(trades)>0 else np.nan\n",
        "    return {\"Sharpe\":sharpe, \"Max Drawdown\":max_dd,\n",
        "            \"Num Trades\":len(trades), \"Win Rate\":win}\n",
        ""
      ],
      "metadata": {
        "id": "UnD3XIsc-F0W"
      },
      "execution_count": 71,
      "outputs": []
    },
    {
      "cell_type": "code",
      "source": [
        "# Colab Cell 3 — Coleta, Limpeza de Datas e Treino DQN\n",
        "\n",
        "os.makedirs(\"models\", exist_ok=True)\n",
        "data_dict, model_dict = {}, {}\n",
        "\n",
        "for t in TICKERS:\n",
        "    print(f\"\\nTreinando {t}…\")\n",
        "    raw = Ticker(t).history(period=\"2y\", interval=\"1d\")[\"adjclose\"].dropna()\n",
        "    df2 = raw.reset_index()[[\"symbol\",\"date\",\"adjclose\"]]\n",
        "    df2 = df2[df2[\"symbol\"]==t]\n",
        "    df2[\"date\"]=pd.to_datetime(df2[\"date\"].astype(str).str[:10])\n",
        "    sr = pd.Series(df2[\"adjclose\"].values, index=df2[\"date\"])\n",
        "    data_dict[t]=sr\n",
        "\n",
        "    def make_env(): return Monitor(TradingEnv(sr))\n",
        "    vec = make_vec_env(make_env, n_envs=1, seed=SEED)\n",
        "    mdl = DQN(\"MlpPolicy\", vec,\n",
        "              learning_rate=5e-4, buffer_size=50_000,\n",
        "              learning_starts=5_000, batch_size=64,\n",
        "              gamma=0.99, exploration_fraction=0.2,\n",
        "              seed=SEED, verbose=0)\n",
        "    mdl.learn(total_timesteps=TOTAL_TIMESTEPS)\n",
        "    mdl.save(f\"models/dqn_{t.replace('=','')}\")\n",
        "    model_dict[t]=mdl\n",
        "    print(\"✓ salvo\")\n"
      ],
      "metadata": {
        "colab": {
          "base_uri": "https://localhost:8080/"
        },
        "id": "BMQFJjCne53b",
        "outputId": "d18f2b29-7dd9-4450-8656-44100e18ccef"
      },
      "execution_count": 72,
      "outputs": [
        {
          "output_type": "stream",
          "name": "stdout",
          "text": [
            "\n",
            "Treinando ZC=F…\n"
          ]
        },
        {
          "output_type": "stream",
          "name": "stderr",
          "text": [
            "/usr/local/lib/python3.11/dist-packages/yahooquery/utils/__init__.py:1470: FutureWarning: 'S' is deprecated and will be removed in a future version. Please use 's' instead of 'S'.\n",
            "  has_live_indice = index_utc[-1] >= last_trade - pd.Timedelta(2, \"S\")\n",
            "<ipython-input-71-18654edd73b9>:78: RuntimeWarning: invalid value encountered in log1p\n",
            "  reward = np.log1p(total_after - total_before)  # log(1+PnL)\n",
            "<ipython-input-71-18654edd73b9>:78: RuntimeWarning: divide by zero encountered in log1p\n",
            "  reward = np.log1p(total_after - total_before)  # log(1+PnL)\n"
          ]
        },
        {
          "output_type": "stream",
          "name": "stdout",
          "text": [
            "✓ salvo\n",
            "\n",
            "Treinando ZO=F…\n"
          ]
        },
        {
          "output_type": "stream",
          "name": "stderr",
          "text": [
            "/usr/local/lib/python3.11/dist-packages/yahooquery/utils/__init__.py:1470: FutureWarning: 'S' is deprecated and will be removed in a future version. Please use 's' instead of 'S'.\n",
            "  has_live_indice = index_utc[-1] >= last_trade - pd.Timedelta(2, \"S\")\n",
            "<ipython-input-71-18654edd73b9>:78: RuntimeWarning: invalid value encountered in log1p\n",
            "  reward = np.log1p(total_after - total_before)  # log(1+PnL)\n",
            "<ipython-input-71-18654edd73b9>:78: RuntimeWarning: divide by zero encountered in log1p\n",
            "  reward = np.log1p(total_after - total_before)  # log(1+PnL)\n"
          ]
        },
        {
          "output_type": "stream",
          "name": "stdout",
          "text": [
            "✓ salvo\n",
            "\n",
            "Treinando KE=F…\n"
          ]
        },
        {
          "output_type": "stream",
          "name": "stderr",
          "text": [
            "/usr/local/lib/python3.11/dist-packages/yahooquery/utils/__init__.py:1470: FutureWarning: 'S' is deprecated and will be removed in a future version. Please use 's' instead of 'S'.\n",
            "  has_live_indice = index_utc[-1] >= last_trade - pd.Timedelta(2, \"S\")\n",
            "<ipython-input-71-18654edd73b9>:78: RuntimeWarning: invalid value encountered in log1p\n",
            "  reward = np.log1p(total_after - total_before)  # log(1+PnL)\n",
            "<ipython-input-71-18654edd73b9>:78: RuntimeWarning: divide by zero encountered in log1p\n",
            "  reward = np.log1p(total_after - total_before)  # log(1+PnL)\n"
          ]
        },
        {
          "output_type": "stream",
          "name": "stdout",
          "text": [
            "✓ salvo\n",
            "\n",
            "Treinando GF=F…\n"
          ]
        },
        {
          "output_type": "stream",
          "name": "stderr",
          "text": [
            "/usr/local/lib/python3.11/dist-packages/yahooquery/utils/__init__.py:1470: FutureWarning: 'S' is deprecated and will be removed in a future version. Please use 's' instead of 'S'.\n",
            "  has_live_indice = index_utc[-1] >= last_trade - pd.Timedelta(2, \"S\")\n",
            "<ipython-input-71-18654edd73b9>:78: RuntimeWarning: invalid value encountered in log1p\n",
            "  reward = np.log1p(total_after - total_before)  # log(1+PnL)\n",
            "<ipython-input-71-18654edd73b9>:78: RuntimeWarning: divide by zero encountered in log1p\n",
            "  reward = np.log1p(total_after - total_before)  # log(1+PnL)\n"
          ]
        },
        {
          "output_type": "stream",
          "name": "stdout",
          "text": [
            "✓ salvo\n",
            "\n",
            "Treinando ZS=F…\n"
          ]
        },
        {
          "output_type": "stream",
          "name": "stderr",
          "text": [
            "/usr/local/lib/python3.11/dist-packages/yahooquery/utils/__init__.py:1470: FutureWarning: 'S' is deprecated and will be removed in a future version. Please use 's' instead of 'S'.\n",
            "  has_live_indice = index_utc[-1] >= last_trade - pd.Timedelta(2, \"S\")\n",
            "<ipython-input-71-18654edd73b9>:78: RuntimeWarning: invalid value encountered in log1p\n",
            "  reward = np.log1p(total_after - total_before)  # log(1+PnL)\n",
            "<ipython-input-71-18654edd73b9>:78: RuntimeWarning: divide by zero encountered in log1p\n",
            "  reward = np.log1p(total_after - total_before)  # log(1+PnL)\n"
          ]
        },
        {
          "output_type": "stream",
          "name": "stdout",
          "text": [
            "✓ salvo\n",
            "\n",
            "Treinando ZM=F…\n"
          ]
        },
        {
          "output_type": "stream",
          "name": "stderr",
          "text": [
            "/usr/local/lib/python3.11/dist-packages/yahooquery/utils/__init__.py:1470: FutureWarning: 'S' is deprecated and will be removed in a future version. Please use 's' instead of 'S'.\n",
            "  has_live_indice = index_utc[-1] >= last_trade - pd.Timedelta(2, \"S\")\n",
            "<ipython-input-71-18654edd73b9>:78: RuntimeWarning: invalid value encountered in log1p\n",
            "  reward = np.log1p(total_after - total_before)  # log(1+PnL)\n",
            "<ipython-input-71-18654edd73b9>:78: RuntimeWarning: divide by zero encountered in log1p\n",
            "  reward = np.log1p(total_after - total_before)  # log(1+PnL)\n"
          ]
        },
        {
          "output_type": "stream",
          "name": "stdout",
          "text": [
            "✓ salvo\n",
            "\n",
            "Treinando ZL=F…\n"
          ]
        },
        {
          "output_type": "stream",
          "name": "stderr",
          "text": [
            "/usr/local/lib/python3.11/dist-packages/yahooquery/utils/__init__.py:1470: FutureWarning: 'S' is deprecated and will be removed in a future version. Please use 's' instead of 'S'.\n",
            "  has_live_indice = index_utc[-1] >= last_trade - pd.Timedelta(2, \"S\")\n",
            "<ipython-input-71-18654edd73b9>:78: RuntimeWarning: invalid value encountered in log1p\n",
            "  reward = np.log1p(total_after - total_before)  # log(1+PnL)\n",
            "<ipython-input-71-18654edd73b9>:78: RuntimeWarning: divide by zero encountered in log1p\n",
            "  reward = np.log1p(total_after - total_before)  # log(1+PnL)\n"
          ]
        },
        {
          "output_type": "stream",
          "name": "stdout",
          "text": [
            "✓ salvo\n"
          ]
        }
      ]
    },
    {
      "cell_type": "code",
      "source": [
        "# Colab Cell 4 — Simulação, Benchmark, Métricas e Walk-Forward\n",
        "\n",
        "import math\n",
        "\n",
        "# 1) Simula e coleta métricas do RL\n",
        "t=\"ZC=F\"\n",
        "df_rl = simulate_trading(data_dict[t], model_dict[t])\n",
        "plot_equity(df_rl,\"DQN Equity\")\n",
        "m_rl = compute_metrics(df_rl)\n",
        "print(\"DQN:\", pd.Series(m_rl))\n",
        "\n",
        "# 2) Simula buy-and-hold como benchmark\n",
        "prices = data_dict[t]\n",
        "bh = pd.DataFrame({\n",
        "    \"date\": prices.index,\n",
        "    \"balance\": INITIAL_BALANCE * prices/prices.iloc[0]\n",
        "})\n",
        "plot_equity(bh,\"Buy&Hold\")\n",
        "rets_bh = bh[\"balance\"].pct_change().fillna(0)\n",
        "m_bh = {\n",
        "    \"Sharpe\": rets_bh.mean()/rets_bh.std()*math.sqrt(252),\n",
        "    \"Max Drawdown\": ((bh[\"balance\"]-bh[\"balance\"].cummax())/bh[\"balance\"].cummax()).min(),\n",
        "    \"Num Trades\": 1, \"Win Rate\": math.nan\n",
        "}\n",
        "print(\"B&H:\", pd.Series(m_bh))\n",
        "\n",
        "# 3) Walk-Forward com janelas menores\n",
        "res=[]\n",
        "train_len,test_len,step=300,100,50\n",
        "sr = data_dict[t]\n",
        "for start in range(0,len(sr)-train_len-test_len+1,step):\n",
        "    tr=sr.iloc[start:start+train_len]\n",
        "    te=sr.iloc[start+train_len:start+train_len+test_len]\n",
        "\n",
        "    # retrain\n",
        "    df2=tr.reset_index(); df2[\"date\"]=df2[\"date\"].astype(str).str[:10]; df2[\"date\"]=pd.to_datetime(df2[\"date\"])\n",
        "    sr2=pd.Series(df2[\"adjclose\"].values,index=df2[\"date\"])\n",
        "    envf=lambda:Monitor(TradingEnv(sr2))\n",
        "    mdl2=DQN(\"MlpPolicy\", make_vec_env(envf,1,seed=SEED),\n",
        "             learning_rate=5e-4, buffer_size=50_000,\n",
        "             learning_starts=5_000, batch_size=64,\n",
        "             gamma=0.99, exploration_fraction=0.2,\n",
        "             seed=SEED, verbose=0)\n",
        "    mdl2.learn(total_timesteps=TOTAL_TIMESTEPS//2)\n",
        "\n",
        "    df_t=simulate_trading(te,mdl2)\n",
        "    m=compute_metrics(df_t)\n",
        "    m[\"start\"],m[\"end\"]=tr.index[0],te.index[-1]\n",
        "    res.append(m)\n",
        "\n",
        "print(\"\\nWalk-Forward:\")\n",
        "print(pd.DataFrame(res))\n"
      ],
      "metadata": {
        "colab": {
          "base_uri": "https://localhost:8080/",
          "height": 1000
        },
        "id": "mtcYpwyce84i",
        "outputId": "67087285-60ff-45a0-983b-bd9b5e538bca"
      },
      "execution_count": 73,
      "outputs": [
        {
          "output_type": "display_data",
          "data": {
            "text/plain": [
              "<Figure size 1000x400 with 1 Axes>"
            ],
            "image/png": "[encoded data removed]"
          },
          "metadata": {}
        },
        {
          "output_type": "stream",
          "name": "stdout",
          "text": [
            "DQN: Sharpe          0.0\n",
            "Max Drawdown    0.0\n",
            "Num Trades      0.0\n",
            "Win Rate        NaN\n",
            "dtype: float64\n"
          ]
        },
        {
          "output_type": "display_data",
          "data": {
            "text/plain": [
              "<Figure size 1000x400 with 1 Axes>"
            ],
            "image/png": "[encoded data removed]"
          },
          "metadata": {}
        },
        {
          "output_type": "stream",
          "name": "stdout",
          "text": [
            "B&H: Sharpe         -0.421033\n",
            "Max Drawdown   -0.460507\n",
            "Num Trades      1.000000\n",
            "Win Rate             NaN\n",
            "dtype: float64\n"
          ]
        },
        {
          "output_type": "error",
          "ename": "KeyError",
          "evalue": "'adjclose'",
          "traceback": [
            "\u001b[0;31m---------------------------------------------------------------------------\u001b[0m",
            "\u001b[0;31mKeyError\u001b[0m                                  Traceback (most recent call last)",
            "\u001b[0;32m/usr/local/lib/python3.11/dist-packages/pandas/core/indexes/base.py\u001b[0m in \u001b[0;36mget_loc\u001b[0;34m(self, key)\u001b[0m\n\u001b[1;32m   3804\u001b[0m         \u001b[0;32mtry\u001b[0m\u001b[0;34m:\u001b[0m\u001b[0;34m\u001b[0m\u001b[0;34m\u001b[0m\u001b[0m\n\u001b[0;32m-> 3805\u001b[0;31m             \u001b[0;32mreturn\u001b[0m \u001b[0mself\u001b[0m\u001b[0;34m.\u001b[0m\u001b[0m_engine\u001b[0m\u001b[0;34m.\u001b[0m\u001b[0mget_loc\u001b[0m\u001b[0;34m(\u001b[0m\u001b[0mcasted_key\u001b[0m\u001b[0;34m)\u001b[0m\u001b[0;34m\u001b[0m\u001b[0;34m\u001b[0m\u001b[0m\n\u001b[0m\u001b[1;32m   3806\u001b[0m         \u001b[0;32mexcept\u001b[0m \u001b[0mKeyError\u001b[0m \u001b[0;32mas\u001b[0m \u001b[0merr\u001b[0m\u001b[0;34m:\u001b[0m\u001b[0;34m\u001b[0m\u001b[0;34m\u001b[0m\u001b[0m\n",
            "\u001b[0;32mindex.pyx\u001b[0m in \u001b[0;36mpandas._libs.index.IndexEngine.get_loc\u001b[0;34m()\u001b[0m\n",
            "\u001b[0;32mindex.pyx\u001b[0m in \u001b[0;36mpandas._libs.index.IndexEngine.get_loc\u001b[0;34m()\u001b[0m\n",
            "\u001b[0;32mpandas/_libs/hashtable_class_helper.pxi\u001b[0m in \u001b[0;36mpandas._libs.hashtable.PyObjectHashTable.get_item\u001b[0;34m()\u001b[0m\n",
            "\u001b[0;32mpandas/_libs/hashtable_class_helper.pxi\u001b[0m in \u001b[0;36mpandas._libs.hashtable.PyObjectHashTable.get_item\u001b[0;34m()\u001b[0m\n",
            "\u001b[0;31mKeyError\u001b[0m: 'adjclose'",
            "\nThe above exception was the direct cause of the following exception:\n",
            "\u001b[0;31mKeyError\u001b[0m                                  Traceback (most recent call last)",
            "\u001b[0;32m<ipython-input-73-d5a12dd6c702>\u001b[0m in \u001b[0;36m<cell line: 0>\u001b[0;34m()\u001b[0m\n\u001b[1;32m     35\u001b[0m     \u001b[0;31m# retrain\u001b[0m\u001b[0;34m\u001b[0m\u001b[0;34m\u001b[0m\u001b[0m\n\u001b[1;32m     36\u001b[0m     \u001b[0mdf2\u001b[0m\u001b[0;34m=\u001b[0m\u001b[0mtr\u001b[0m\u001b[0;34m.\u001b[0m\u001b[0mreset_index\u001b[0m\u001b[0;34m(\u001b[0m\u001b[0;34m)\u001b[0m\u001b[0;34m;\u001b[0m \u001b[0mdf2\u001b[0m\u001b[0;34m[\u001b[0m\u001b[0;34m\"date\"\u001b[0m\u001b[0;34m]\u001b[0m\u001b[0;34m=\u001b[0m\u001b[0mdf2\u001b[0m\u001b[0;34m[\u001b[0m\u001b[0;34m\"date\"\u001b[0m\u001b[0;34m]\u001b[0m\u001b[0;34m.\u001b[0m\u001b[0mastype\u001b[0m\u001b[0;34m(\u001b[0m\u001b[0mstr\u001b[0m\u001b[0;34m)\u001b[0m\u001b[0;34m.\u001b[0m\u001b[0mstr\u001b[0m\u001b[0;34m[\u001b[0m\u001b[0;34m:\u001b[0m\u001b[0;36m10\u001b[0m\u001b[0;34m]\u001b[0m\u001b[0;34m;\u001b[0m \u001b[0mdf2\u001b[0m\u001b[0;34m[\u001b[0m\u001b[0;34m\"date\"\u001b[0m\u001b[0;34m]\u001b[0m\u001b[0;34m=\u001b[0m\u001b[0mpd\u001b[0m\u001b[0;34m.\u001b[0m\u001b[0mto_datetime\u001b[0m\u001b[0;34m(\u001b[0m\u001b[0mdf2\u001b[0m\u001b[0;34m[\u001b[0m\u001b[0;34m\"date\"\u001b[0m\u001b[0;34m]\u001b[0m\u001b[0;34m)\u001b[0m\u001b[0;34m\u001b[0m\u001b[0;34m\u001b[0m\u001b[0m\n\u001b[0;32m---> 37\u001b[0;31m     \u001b[0msr2\u001b[0m\u001b[0;34m=\u001b[0m\u001b[0mpd\u001b[0m\u001b[0;34m.\u001b[0m\u001b[0mSeries\u001b[0m\u001b[0;34m(\u001b[0m\u001b[0mdf2\u001b[0m\u001b[0;34m[\u001b[0m\u001b[0;34m\"adjclose\"\u001b[0m\u001b[0;34m]\u001b[0m\u001b[0;34m.\u001b[0m\u001b[0mvalues\u001b[0m\u001b[0;34m,\u001b[0m\u001b[0mindex\u001b[0m\u001b[0;34m=\u001b[0m\u001b[0mdf2\u001b[0m\u001b[0;34m[\u001b[0m\u001b[0;34m\"date\"\u001b[0m\u001b[0;34m]\u001b[0m\u001b[0;34m)\u001b[0m\u001b[0;34m\u001b[0m\u001b[0;34m\u001b[0m\u001b[0m\n\u001b[0m\u001b[1;32m     38\u001b[0m     \u001b[0menvf\u001b[0m\u001b[0;34m=\u001b[0m\u001b[0;32mlambda\u001b[0m\u001b[0;34m:\u001b[0m\u001b[0mMonitor\u001b[0m\u001b[0;34m(\u001b[0m\u001b[0mTradingEnv\u001b[0m\u001b[0;34m(\u001b[0m\u001b[0msr2\u001b[0m\u001b[0;34m)\u001b[0m\u001b[0;34m)\u001b[0m\u001b[0;34m\u001b[0m\u001b[0;34m\u001b[0m\u001b[0m\n\u001b[1;32m     39\u001b[0m     mdl2=DQN(\"MlpPolicy\", make_vec_env(envf,1,seed=SEED),\n",
            "\u001b[0;32m/usr/local/lib/python3.11/dist-packages/pandas/core/frame.py\u001b[0m in \u001b[0;36m__getitem__\u001b[0;34m(self, key)\u001b[0m\n\u001b[1;32m   4100\u001b[0m             \u001b[0;32mif\u001b[0m \u001b[0mself\u001b[0m\u001b[0;34m.\u001b[0m\u001b[0mcolumns\u001b[0m\u001b[0;34m.\u001b[0m\u001b[0mnlevels\u001b[0m \u001b[0;34m>\u001b[0m \u001b[0;36m1\u001b[0m\u001b[0;34m:\u001b[0m\u001b[0;34m\u001b[0m\u001b[0;34m\u001b[0m\u001b[0m\n\u001b[1;32m   4101\u001b[0m                 \u001b[0;32mreturn\u001b[0m \u001b[0mself\u001b[0m\u001b[0;34m.\u001b[0m\u001b[0m_getitem_multilevel\u001b[0m\u001b[0;34m(\u001b[0m\u001b[0mkey\u001b[0m\u001b[0;34m)\u001b[0m\u001b[0;34m\u001b[0m\u001b[0;34m\u001b[0m\u001b[0m\n\u001b[0;32m-> 4102\u001b[0;31m             \u001b[0mindexer\u001b[0m \u001b[0;34m=\u001b[0m \u001b[0mself\u001b[0m\u001b[0;34m.\u001b[0m\u001b[0mcolumns\u001b[0m\u001b[0;34m.\u001b[0m\u001b[0mget_loc\u001b[0m\u001b[0;34m(\u001b[0m\u001b[0mkey\u001b[0m\u001b[0;34m)\u001b[0m\u001b[0;34m\u001b[0m\u001b[0;34m\u001b[0m\u001b[0m\n\u001b[0m\u001b[1;32m   4103\u001b[0m             \u001b[0;32mif\u001b[0m \u001b[0mis_integer\u001b[0m\u001b[0;34m(\u001b[0m\u001b[0mindexer\u001b[0m\u001b[0;34m)\u001b[0m\u001b[0;34m:\u001b[0m\u001b[0;34m\u001b[0m\u001b[0;34m\u001b[0m\u001b[0m\n\u001b[1;32m   4104\u001b[0m                 \u001b[0mindexer\u001b[0m \u001b[0;34m=\u001b[0m \u001b[0;34m[\u001b[0m\u001b[0mindexer\u001b[0m\u001b[0;34m]\u001b[0m\u001b[0;34m\u001b[0m\u001b[0;34m\u001b[0m\u001b[0m\n",
            "\u001b[0;32m/usr/local/lib/python3.11/dist-packages/pandas/core/indexes/base.py\u001b[0m in \u001b[0;36mget_loc\u001b[0;34m(self, key)\u001b[0m\n\u001b[1;32m   3810\u001b[0m             ):\n\u001b[1;32m   3811\u001b[0m                 \u001b[0;32mraise\u001b[0m \u001b[0mInvalidIndexError\u001b[0m\u001b[0;34m(\u001b[0m\u001b[0mkey\u001b[0m\u001b[0;34m)\u001b[0m\u001b[0;34m\u001b[0m\u001b[0;34m\u001b[0m\u001b[0m\n\u001b[0;32m-> 3812\u001b[0;31m             \u001b[0;32mraise\u001b[0m \u001b[0mKeyError\u001b[0m\u001b[0;34m(\u001b[0m\u001b[0mkey\u001b[0m\u001b[0;34m)\u001b[0m \u001b[0;32mfrom\u001b[0m \u001b[0merr\u001b[0m\u001b[0;34m\u001b[0m\u001b[0;34m\u001b[0m\u001b[0m\n\u001b[0m\u001b[1;32m   3813\u001b[0m         \u001b[0;32mexcept\u001b[0m \u001b[0mTypeError\u001b[0m\u001b[0;34m:\u001b[0m\u001b[0;34m\u001b[0m\u001b[0;34m\u001b[0m\u001b[0m\n\u001b[1;32m   3814\u001b[0m             \u001b[0;31m# If we have a listlike key, _check_indexing_error will raise\u001b[0m\u001b[0;34m\u001b[0m\u001b[0;34m\u001b[0m\u001b[0m\n",
            "\u001b[0;31mKeyError\u001b[0m: 'adjclose'"
          ]
        }
      ]
    },
    {
      "cell_type": "code",
      "source": [],
      "metadata": {
        "id": "UYHB--NXfAYa"
      },
      "execution_count": null,
      "outputs": []
    }
  ]
}